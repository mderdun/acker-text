{
 "cells": [
  {
   "cell_type": "markdown",
   "metadata": {},
   "source": [
    "Speeding up the processing of PDF and image scanned Books using docTR (https://mindee.github.io/doctr/)"
   ]
  },
  {
   "cell_type": "code",
   "execution_count": 32,
   "metadata": {},
   "outputs": [
    {
     "name": "stdout",
     "output_type": "stream",
     "text": [
      "Requirement already satisfied: python-doctr in /Users/mderdun/anaconda3/envs/ackerText/lib/python3.11/site-packages (0.7.0)\n",
      "Requirement already satisfied: importlib-metadata in /Users/mderdun/anaconda3/envs/ackerText/lib/python3.11/site-packages (from python-doctr) (6.8.0)\n",
      "Requirement already satisfied: numpy<2.0.0,>=1.16.0 in /Users/mderdun/anaconda3/envs/ackerText/lib/python3.11/site-packages (from python-doctr) (1.26.1)\n",
      "Requirement already satisfied: scipy<2.0.0,>=1.4.0 in /Users/mderdun/anaconda3/envs/ackerText/lib/python3.11/site-packages (from python-doctr) (1.11.3)\n",
      "Requirement already satisfied: h5py<4.0.0,>=3.1.0 in /Users/mderdun/anaconda3/envs/ackerText/lib/python3.11/site-packages (from python-doctr) (3.10.0)\n",
      "Requirement already satisfied: opencv-python<5.0.0,>=4.5.0 in /Users/mderdun/anaconda3/envs/ackerText/lib/python3.11/site-packages (from python-doctr) (4.8.1.78)\n",
      "Requirement already satisfied: pypdfium2<5.0.0,>=4.0.0 in /Users/mderdun/anaconda3/envs/ackerText/lib/python3.11/site-packages (from python-doctr) (4.23.1)\n",
      "Requirement already satisfied: pyclipper<2.0.0,>=1.2.0 in /Users/mderdun/anaconda3/envs/ackerText/lib/python3.11/site-packages (from python-doctr) (1.3.0.post5)\n",
      "Requirement already satisfied: shapely<3.0.0,>=1.6.0 in /Users/mderdun/anaconda3/envs/ackerText/lib/python3.11/site-packages (from python-doctr) (2.0.2)\n",
      "Requirement already satisfied: langdetect<2.0.0,>=1.0.9 in /Users/mderdun/anaconda3/envs/ackerText/lib/python3.11/site-packages (from python-doctr) (1.0.9)\n",
      "Requirement already satisfied: rapidfuzz<4.0.0,>=3.0.0 in /Users/mderdun/anaconda3/envs/ackerText/lib/python3.11/site-packages (from python-doctr) (3.5.2)\n",
      "Requirement already satisfied: matplotlib>=3.1.0 in /Users/mderdun/anaconda3/envs/ackerText/lib/python3.11/site-packages (from python-doctr) (3.8.0)\n",
      "Requirement already satisfied: weasyprint>=55.0 in /Users/mderdun/anaconda3/envs/ackerText/lib/python3.11/site-packages (from python-doctr) (60.1)\n",
      "Collecting Pillow>=10.0.0 (from python-doctr)\n",
      "  Using cached Pillow-10.1.0-cp311-cp311-macosx_11_0_arm64.whl.metadata (9.5 kB)\n",
      "Requirement already satisfied: defusedxml>=0.7.0 in /Users/mderdun/anaconda3/envs/ackerText/lib/python3.11/site-packages (from python-doctr) (0.7.1)\n",
      "Requirement already satisfied: mplcursors>=0.3 in /Users/mderdun/anaconda3/envs/ackerText/lib/python3.11/site-packages (from python-doctr) (0.5.2)\n",
      "Requirement already satisfied: unidecode>=1.0.0 in /Users/mderdun/anaconda3/envs/ackerText/lib/python3.11/site-packages (from python-doctr) (1.3.7)\n",
      "Requirement already satisfied: tqdm>=4.30.0 in /Users/mderdun/anaconda3/envs/ackerText/lib/python3.11/site-packages (from python-doctr) (4.66.1)\n",
      "Requirement already satisfied: huggingface-hub>=0.5.0 in /Users/mderdun/anaconda3/envs/ackerText/lib/python3.11/site-packages (from python-doctr) (0.17.3)\n",
      "Requirement already satisfied: filelock in /Users/mderdun/anaconda3/envs/ackerText/lib/python3.11/site-packages (from huggingface-hub>=0.5.0->python-doctr) (3.13.0)\n",
      "Requirement already satisfied: fsspec in /Users/mderdun/anaconda3/envs/ackerText/lib/python3.11/site-packages (from huggingface-hub>=0.5.0->python-doctr) (2023.10.0)\n",
      "Requirement already satisfied: requests in /Users/mderdun/anaconda3/envs/ackerText/lib/python3.11/site-packages (from huggingface-hub>=0.5.0->python-doctr) (2.31.0)\n",
      "Requirement already satisfied: pyyaml>=5.1 in /Users/mderdun/anaconda3/envs/ackerText/lib/python3.11/site-packages (from huggingface-hub>=0.5.0->python-doctr) (6.0.1)\n",
      "Requirement already satisfied: typing-extensions>=3.7.4.3 in /Users/mderdun/anaconda3/envs/ackerText/lib/python3.11/site-packages (from huggingface-hub>=0.5.0->python-doctr) (4.8.0)\n",
      "Requirement already satisfied: packaging>=20.9 in /Users/mderdun/anaconda3/envs/ackerText/lib/python3.11/site-packages (from huggingface-hub>=0.5.0->python-doctr) (23.2)\n",
      "Requirement already satisfied: six in /Users/mderdun/anaconda3/envs/ackerText/lib/python3.11/site-packages (from langdetect<2.0.0,>=1.0.9->python-doctr) (1.16.0)\n",
      "Requirement already satisfied: contourpy>=1.0.1 in /Users/mderdun/anaconda3/envs/ackerText/lib/python3.11/site-packages (from matplotlib>=3.1.0->python-doctr) (1.1.1)\n",
      "Requirement already satisfied: cycler>=0.10 in /Users/mderdun/anaconda3/envs/ackerText/lib/python3.11/site-packages (from matplotlib>=3.1.0->python-doctr) (0.12.1)\n",
      "Requirement already satisfied: fonttools>=4.22.0 in /Users/mderdun/anaconda3/envs/ackerText/lib/python3.11/site-packages (from matplotlib>=3.1.0->python-doctr) (4.25.0)\n",
      "Requirement already satisfied: kiwisolver>=1.0.1 in /Users/mderdun/anaconda3/envs/ackerText/lib/python3.11/site-packages (from matplotlib>=3.1.0->python-doctr) (1.4.5)\n",
      "Requirement already satisfied: pyparsing>=2.3.1 in /Users/mderdun/anaconda3/envs/ackerText/lib/python3.11/site-packages (from matplotlib>=3.1.0->python-doctr) (3.1.1)\n",
      "Requirement already satisfied: python-dateutil>=2.7 in /Users/mderdun/anaconda3/envs/ackerText/lib/python3.11/site-packages (from matplotlib>=3.1.0->python-doctr) (2.8.2)\n",
      "Requirement already satisfied: pydyf>=0.8.0 in /Users/mderdun/anaconda3/envs/ackerText/lib/python3.11/site-packages (from weasyprint>=55.0->python-doctr) (0.8.0)\n",
      "Requirement already satisfied: cffi>=0.6 in /Users/mderdun/anaconda3/envs/ackerText/lib/python3.11/site-packages (from weasyprint>=55.0->python-doctr) (1.16.0)\n",
      "Requirement already satisfied: html5lib>=1.1 in /Users/mderdun/anaconda3/envs/ackerText/lib/python3.11/site-packages (from weasyprint>=55.0->python-doctr) (1.1)\n",
      "Requirement already satisfied: tinycss2>=1.0.0 in /Users/mderdun/anaconda3/envs/ackerText/lib/python3.11/site-packages (from weasyprint>=55.0->python-doctr) (1.2.1)\n",
      "Requirement already satisfied: cssselect2>=0.1 in /Users/mderdun/anaconda3/envs/ackerText/lib/python3.11/site-packages (from weasyprint>=55.0->python-doctr) (0.7.0)\n",
      "Requirement already satisfied: Pyphen>=0.9.1 in /Users/mderdun/anaconda3/envs/ackerText/lib/python3.11/site-packages (from weasyprint>=55.0->python-doctr) (0.14.0)\n",
      "Requirement already satisfied: zipp>=0.5 in /Users/mderdun/anaconda3/envs/ackerText/lib/python3.11/site-packages (from importlib-metadata->python-doctr) (3.17.0)\n",
      "Requirement already satisfied: pycparser in /Users/mderdun/anaconda3/envs/ackerText/lib/python3.11/site-packages (from cffi>=0.6->weasyprint>=55.0->python-doctr) (2.21)\n",
      "Requirement already satisfied: webencodings in /Users/mderdun/anaconda3/envs/ackerText/lib/python3.11/site-packages (from cssselect2>=0.1->weasyprint>=55.0->python-doctr) (0.5.1)\n",
      "Requirement already satisfied: zopfli>=0.1.4 in /Users/mderdun/anaconda3/envs/ackerText/lib/python3.11/site-packages (from fonttools[woff]>=4.0.0->weasyprint>=55.0->python-doctr) (0.2.3)\n",
      "Requirement already satisfied: brotli>=1.0.1 in /Users/mderdun/anaconda3/envs/ackerText/lib/python3.11/site-packages (from fonttools[woff]>=4.0.0->weasyprint>=55.0->python-doctr) (1.1.0)\n",
      "Requirement already satisfied: charset-normalizer<4,>=2 in /Users/mderdun/anaconda3/envs/ackerText/lib/python3.11/site-packages (from requests->huggingface-hub>=0.5.0->python-doctr) (3.3.1)\n",
      "Requirement already satisfied: idna<4,>=2.5 in /Users/mderdun/anaconda3/envs/ackerText/lib/python3.11/site-packages (from requests->huggingface-hub>=0.5.0->python-doctr) (3.4)\n",
      "Requirement already satisfied: urllib3<3,>=1.21.1 in /Users/mderdun/anaconda3/envs/ackerText/lib/python3.11/site-packages (from requests->huggingface-hub>=0.5.0->python-doctr) (2.0.7)\n",
      "Requirement already satisfied: certifi>=2017.4.17 in /Users/mderdun/anaconda3/envs/ackerText/lib/python3.11/site-packages (from requests->huggingface-hub>=0.5.0->python-doctr) (2023.7.22)\n",
      "Using cached Pillow-10.1.0-cp311-cp311-macosx_11_0_arm64.whl (3.3 MB)\n",
      "Installing collected packages: Pillow\n",
      "  Attempting uninstall: Pillow\n",
      "    Found existing installation: Pillow 9.4.0\n",
      "    Uninstalling Pillow-9.4.0:\n",
      "      Successfully uninstalled Pillow-9.4.0\n",
      "Successfully installed Pillow-10.1.0\n",
      "Requirement already satisfied: weasyprint in /Users/mderdun/anaconda3/envs/ackerText/lib/python3.11/site-packages (60.1)\n",
      "Requirement already satisfied: pydyf>=0.8.0 in /Users/mderdun/anaconda3/envs/ackerText/lib/python3.11/site-packages (from weasyprint) (0.8.0)\n",
      "Requirement already satisfied: cffi>=0.6 in /Users/mderdun/anaconda3/envs/ackerText/lib/python3.11/site-packages (from weasyprint) (1.16.0)\n",
      "Requirement already satisfied: html5lib>=1.1 in /Users/mderdun/anaconda3/envs/ackerText/lib/python3.11/site-packages (from weasyprint) (1.1)\n",
      "Requirement already satisfied: tinycss2>=1.0.0 in /Users/mderdun/anaconda3/envs/ackerText/lib/python3.11/site-packages (from weasyprint) (1.2.1)\n",
      "Requirement already satisfied: cssselect2>=0.1 in /Users/mderdun/anaconda3/envs/ackerText/lib/python3.11/site-packages (from weasyprint) (0.7.0)\n",
      "Requirement already satisfied: Pyphen>=0.9.1 in /Users/mderdun/anaconda3/envs/ackerText/lib/python3.11/site-packages (from weasyprint) (0.14.0)\n",
      "Requirement already satisfied: Pillow>=9.1.0 in /Users/mderdun/anaconda3/envs/ackerText/lib/python3.11/site-packages (from weasyprint) (10.1.0)\n",
      "Requirement already satisfied: fonttools>=4.0.0 in /Users/mderdun/anaconda3/envs/ackerText/lib/python3.11/site-packages (from fonttools[woff]>=4.0.0->weasyprint) (4.25.0)\n",
      "Requirement already satisfied: pycparser in /Users/mderdun/anaconda3/envs/ackerText/lib/python3.11/site-packages (from cffi>=0.6->weasyprint) (2.21)\n",
      "Requirement already satisfied: webencodings in /Users/mderdun/anaconda3/envs/ackerText/lib/python3.11/site-packages (from cssselect2>=0.1->weasyprint) (0.5.1)\n",
      "Requirement already satisfied: zopfli>=0.1.4 in /Users/mderdun/anaconda3/envs/ackerText/lib/python3.11/site-packages (from fonttools[woff]>=4.0.0->weasyprint) (0.2.3)\n",
      "Requirement already satisfied: brotli>=1.0.1 in /Users/mderdun/anaconda3/envs/ackerText/lib/python3.11/site-packages (from fonttools[woff]>=4.0.0->weasyprint) (1.1.0)\n",
      "Requirement already satisfied: six>=1.9 in /Users/mderdun/anaconda3/envs/ackerText/lib/python3.11/site-packages (from html5lib>=1.1->weasyprint) (1.16.0)\n",
      "Collecting reportlab\n",
      "  Downloading reportlab-4.0.7-py3-none-any.whl.metadata (1.3 kB)\n",
      "Requirement already satisfied: pillow>=9.0.0 in /Users/mderdun/anaconda3/envs/ackerText/lib/python3.11/site-packages (from reportlab) (10.1.0)\n",
      "Downloading reportlab-4.0.7-py3-none-any.whl (1.9 MB)\n",
      "\u001b[2K   \u001b[90m━━━━━━━━━━━━━━━━━━━━━━━━━━━━━━━━━━━━━━━━\u001b[0m \u001b[32m1.9/1.9 MB\u001b[0m \u001b[31m1.4 MB/s\u001b[0m eta \u001b[36m0:00:00\u001b[0m00:01\u001b[0m00:01\u001b[0m0m\n",
      "\u001b[?25hInstalling collected packages: reportlab\n",
      "Successfully installed reportlab-4.0.7\n"
     ]
    }
   ],
   "source": [
    "!pip install python-doctr\n",
    "!pip install weasyprint\n",
    "!pip install reportlab"
   ]
  },
  {
   "cell_type": "code",
   "execution_count": 33,
   "metadata": {},
   "outputs": [],
   "source": [
    "import base64\n",
    "import re\n",
    "from tempfile import TemporaryDirectory\n",
    "from math import atan, cos, sin\n",
    "from typing import Dict, Optional, Tuple\n",
    "from xml.etree import ElementTree as ET\n",
    "from xml.etree.ElementTree import Element\n",
    "\n",
    "import numpy as np\n",
    "import PyPDF2\n",
    "from PyPDF2 import PdfFileMerger\n",
    "from doctr.io import DocumentFile\n",
    "from doctr.models import ocr_predictor\n",
    "from PIL import Image\n",
    "from reportlab.lib.colors import black\n",
    "from reportlab.lib.units import inch\n",
    "from reportlab.lib.utils import ImageReader\n",
    "from reportlab.pdfgen.canvas import Canvas"
   ]
  },
  {
   "cell_type": "code",
   "execution_count": 35,
   "metadata": {},
   "outputs": [
    {
     "ename": "KeyboardInterrupt",
     "evalue": "",
     "output_type": "error",
     "traceback": [
      "\u001b[0;31m---------------------------------------------------------------------------\u001b[0m",
      "\u001b[0;31mKeyboardInterrupt\u001b[0m                         Traceback (most recent call last)",
      "\u001b[1;32m/Users/mderdun/Local Documents/GitHub/acker-text/docTR.ipynb Cell 5\u001b[0m line \u001b[0;36m2\n\u001b[1;32m      <a href='vscode-notebook-cell:/Users/mderdun/Local%20Documents/GitHub/acker-text/docTR.ipynb#W6sZmlsZQ%3D%3D?line=0'>1</a>\u001b[0m \u001b[39m# Read the file\u001b[39;00m\n\u001b[0;32m----> <a href='vscode-notebook-cell:/Users/mderdun/Local%20Documents/GitHub/acker-text/docTR.ipynb#W6sZmlsZQ%3D%3D?line=1'>2</a>\u001b[0m docs \u001b[39m=\u001b[39m DocumentFile\u001b[39m.\u001b[39;49mfrom_pdf(\u001b[39m'\u001b[39;49m\u001b[39mSourcebook/theWilderShoresOfLove.pdf\u001b[39;49m\u001b[39m'\u001b[39;49m)\n\u001b[1;32m      <a href='vscode-notebook-cell:/Users/mderdun/Local%20Documents/GitHub/acker-text/docTR.ipynb#W6sZmlsZQ%3D%3D?line=2'>3</a>\u001b[0m model \u001b[39m=\u001b[39m ocr_predictor(det_arch\u001b[39m=\u001b[39m\u001b[39m'\u001b[39m\u001b[39mdb_resnet50\u001b[39m\u001b[39m'\u001b[39m, reco_arch\u001b[39m=\u001b[39m\u001b[39m'\u001b[39m\u001b[39mcrnn_vgg16_bn\u001b[39m\u001b[39m'\u001b[39m, pretrained\u001b[39m=\u001b[39m\u001b[39mTrue\u001b[39;00m)\n\u001b[1;32m      <a href='vscode-notebook-cell:/Users/mderdun/Local%20Documents/GitHub/acker-text/docTR.ipynb#W6sZmlsZQ%3D%3D?line=3'>4</a>\u001b[0m \u001b[39m# we will grab only the first two pages from the pdf for demonstration\u001b[39;00m\n",
      "File \u001b[0;32m~/anaconda3/envs/ackerText/lib/python3.11/site-packages/doctr/io/reader.py:37\u001b[0m, in \u001b[0;36mDocumentFile.from_pdf\u001b[0;34m(cls, file, **kwargs)\u001b[0m\n\u001b[1;32m     23\u001b[0m \u001b[39m@classmethod\u001b[39m\n\u001b[1;32m     24\u001b[0m \u001b[39mdef\u001b[39;00m \u001b[39mfrom_pdf\u001b[39m(\u001b[39mcls\u001b[39m, file: AbstractFile, \u001b[39m*\u001b[39m\u001b[39m*\u001b[39mkwargs) \u001b[39m-\u001b[39m\u001b[39m>\u001b[39m List[np\u001b[39m.\u001b[39mndarray]:\n\u001b[1;32m     25\u001b[0m \u001b[39m    \u001b[39m\u001b[39m\"\"\"Read a PDF file\u001b[39;00m\n\u001b[1;32m     26\u001b[0m \n\u001b[1;32m     27\u001b[0m \u001b[39m    >>> from doctr.documents import DocumentFile\u001b[39;00m\n\u001b[0;32m   (...)\u001b[0m\n\u001b[1;32m     34\u001b[0m \u001b[39m        the list of pages decoded as numpy ndarray of shape H x W x 3\u001b[39;00m\n\u001b[1;32m     35\u001b[0m \u001b[39m    \"\"\"\u001b[39;00m\n\u001b[0;32m---> 37\u001b[0m     \u001b[39mreturn\u001b[39;00m read_pdf(file, \u001b[39m*\u001b[39;49m\u001b[39m*\u001b[39;49mkwargs)\n",
      "File \u001b[0;32m~/anaconda3/envs/ackerText/lib/python3.11/site-packages/doctr/io/pdf.py:41\u001b[0m, in \u001b[0;36mread_pdf\u001b[0;34m(file, scale, rgb_mode, password, **kwargs)\u001b[0m\n\u001b[1;32m     39\u001b[0m \u001b[39m# Rasterise pages to numpy ndarrays with pypdfium2\u001b[39;00m\n\u001b[1;32m     40\u001b[0m pdf \u001b[39m=\u001b[39m pdfium\u001b[39m.\u001b[39mPdfDocument(file, password\u001b[39m=\u001b[39mpassword, autoclose\u001b[39m=\u001b[39m\u001b[39mTrue\u001b[39;00m)\n\u001b[0;32m---> 41\u001b[0m \u001b[39mreturn\u001b[39;00m [page\u001b[39m.\u001b[39;49mrender(scale\u001b[39m=\u001b[39;49mscale, rev_byteorder\u001b[39m=\u001b[39;49mrgb_mode, \u001b[39m*\u001b[39;49m\u001b[39m*\u001b[39;49mkwargs)\u001b[39m.\u001b[39;49mto_numpy() \u001b[39mfor\u001b[39;49;00m page \u001b[39min\u001b[39;49;00m pdf]\n",
      "File \u001b[0;32m~/anaconda3/envs/ackerText/lib/python3.11/site-packages/doctr/io/pdf.py:41\u001b[0m, in \u001b[0;36m<listcomp>\u001b[0;34m(.0)\u001b[0m\n\u001b[1;32m     39\u001b[0m \u001b[39m# Rasterise pages to numpy ndarrays with pypdfium2\u001b[39;00m\n\u001b[1;32m     40\u001b[0m pdf \u001b[39m=\u001b[39m pdfium\u001b[39m.\u001b[39mPdfDocument(file, password\u001b[39m=\u001b[39mpassword, autoclose\u001b[39m=\u001b[39m\u001b[39mTrue\u001b[39;00m)\n\u001b[0;32m---> 41\u001b[0m \u001b[39mreturn\u001b[39;00m [page\u001b[39m.\u001b[39;49mrender(scale\u001b[39m=\u001b[39;49mscale, rev_byteorder\u001b[39m=\u001b[39;49mrgb_mode, \u001b[39m*\u001b[39;49m\u001b[39m*\u001b[39;49mkwargs)\u001b[39m.\u001b[39mto_numpy() \u001b[39mfor\u001b[39;00m page \u001b[39min\u001b[39;00m pdf]\n",
      "File \u001b[0;32m~/anaconda3/envs/ackerText/lib/python3.11/site-packages/pypdfium2/_helpers/page.py:422\u001b[0m, in \u001b[0;36mPdfPage.render\u001b[0;34m(self, scale, rotation, crop, may_draw_forms, bitmap_maker, color_scheme, fill_to_stroke, **kwargs)\u001b[0m\n\u001b[1;32m    419\u001b[0m \u001b[39mif\u001b[39;00m (color_scheme \u001b[39mis\u001b[39;00m \u001b[39mnot\u001b[39;00m \u001b[39mNone\u001b[39;00m) \u001b[39mand\u001b[39;00m fill_to_stroke:\n\u001b[1;32m    420\u001b[0m     flags \u001b[39m|\u001b[39m\u001b[39m=\u001b[39m pdfium_c\u001b[39m.\u001b[39mFPDF_CONVERT_FILL_TO_STROKE\n\u001b[0;32m--> 422\u001b[0m bitmap \u001b[39m=\u001b[39m bitmap_maker(width, height, \u001b[39mformat\u001b[39;49m\u001b[39m=\u001b[39;49mcl_format, rev_byteorder\u001b[39m=\u001b[39;49mrev_byteorder)\n\u001b[1;32m    423\u001b[0m bitmap\u001b[39m.\u001b[39mfill_rect(\u001b[39m0\u001b[39m, \u001b[39m0\u001b[39m, width, height, fill_color)\n\u001b[1;32m    425\u001b[0m render_args \u001b[39m=\u001b[39m (bitmap, \u001b[39mself\u001b[39m, \u001b[39m-\u001b[39mcrop[\u001b[39m0\u001b[39m], \u001b[39m-\u001b[39mcrop[\u001b[39m3\u001b[39m], src_width, src_height, pdfium_i\u001b[39m.\u001b[39mRotationToConst[rotation], flags)\n",
      "File \u001b[0;32m~/anaconda3/envs/ackerText/lib/python3.11/site-packages/pypdfium2/_helpers/bitmap.py:121\u001b[0m, in \u001b[0;36mPdfBitmap.new_native\u001b[0;34m(cls, width, height, format, rev_byteorder, buffer)\u001b[0m\n\u001b[1;32m    119\u001b[0m stride \u001b[39m=\u001b[39m width \u001b[39m*\u001b[39m pdfium_i\u001b[39m.\u001b[39mBitmapTypeToNChannels[\u001b[39mformat\u001b[39m]\n\u001b[1;32m    120\u001b[0m \u001b[39mif\u001b[39;00m buffer \u001b[39mis\u001b[39;00m \u001b[39mNone\u001b[39;00m:\n\u001b[0;32m--> 121\u001b[0m     buffer \u001b[39m=\u001b[39m (ctypes\u001b[39m.\u001b[39;49mc_ubyte \u001b[39m*\u001b[39;49m (stride \u001b[39m*\u001b[39;49m height))()\n\u001b[1;32m    122\u001b[0m raw \u001b[39m=\u001b[39m pdfium_c\u001b[39m.\u001b[39mFPDFBitmap_CreateEx(width, height, \u001b[39mformat\u001b[39m, buffer, stride)\n\u001b[1;32m    124\u001b[0m \u001b[39m# alternatively, we could call the constructor directly with the information from above\u001b[39;00m\n",
      "\u001b[0;31mKeyboardInterrupt\u001b[0m: "
     ]
    }
   ],
   "source": [
    "# Read the file\n",
    "docs = DocumentFile.from_pdf('Sourcebook/theWilderShoresOfLove.pdf')\n",
    "model = ocr_predictor(det_arch='db_resnet50', reco_arch='crnn_vgg16_bn', pretrained=True)\n",
    "# we will grab only the first two pages from the pdf for demonstration\n",
    "result = model(docs[:2])\n",
    "result.show(docs)"
   ]
  }
 ],
 "metadata": {
  "kernelspec": {
   "display_name": "ackerText",
   "language": "python",
   "name": "python3"
  },
  "language_info": {
   "codemirror_mode": {
    "name": "ipython",
    "version": 3
   },
   "file_extension": ".py",
   "mimetype": "text/x-python",
   "name": "python",
   "nbconvert_exporter": "python",
   "pygments_lexer": "ipython3",
   "version": "3.11.5"
  }
 },
 "nbformat": 4,
 "nbformat_minor": 2
}
